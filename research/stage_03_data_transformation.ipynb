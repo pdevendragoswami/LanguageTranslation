{
 "cells": [
  {
   "cell_type": "code",
   "execution_count": 1,
   "metadata": {},
   "outputs": [],
   "source": [
    "import os"
   ]
  },
  {
   "cell_type": "code",
   "execution_count": 2,
   "metadata": {},
   "outputs": [
    {
     "data": {
      "text/plain": [
       "'c:\\\\Users\\\\Devendra\\\\Projects\\\\LanguageTranslation\\\\research'"
      ]
     },
     "execution_count": 2,
     "metadata": {},
     "output_type": "execute_result"
    }
   ],
   "source": [
    "pwd"
   ]
  },
  {
   "cell_type": "code",
   "execution_count": 3,
   "metadata": {},
   "outputs": [
    {
     "name": "stdout",
     "output_type": "stream",
     "text": [
      "c:\\Users\\Devendra\\Projects\\LanguageTranslation\n"
     ]
    }
   ],
   "source": [
    "cd ..\n"
   ]
  },
  {
   "cell_type": "code",
   "execution_count": 4,
   "metadata": {},
   "outputs": [
    {
     "data": {
      "text/plain": [
       "'c:\\\\Users\\\\Devendra\\\\Projects\\\\LanguageTranslation'"
      ]
     },
     "execution_count": 4,
     "metadata": {},
     "output_type": "execute_result"
    }
   ],
   "source": [
    "pwd"
   ]
  },
  {
   "cell_type": "code",
   "execution_count": 5,
   "metadata": {},
   "outputs": [],
   "source": [
    "from dataclasses import dataclass\n",
    "from pathlib import Path\n",
    "\n",
    "\n",
    "@dataclass(frozen=True)\n",
    "class DataTransformationConfig:\n",
    "    root_dir: Path\n",
    "    data_path: Path\n",
    "    tokenizer_name: Path\n"
   ]
  },
  {
   "cell_type": "code",
   "execution_count": 6,
   "metadata": {},
   "outputs": [],
   "source": [
    "from LanguageTranslation.constants import *\n",
    "from LanguageTranslation.utils.utils import read_yaml, create_directories\n"
   ]
  },
  {
   "cell_type": "code",
   "execution_count": 7,
   "metadata": {},
   "outputs": [],
   "source": [
    "class ConfigurationManager:\n",
    "    def __init__(\n",
    "        self,config_filepath = CONFIG_FILE_PATH,params_filepath = PARAMS_FILE_PATH):\n",
    "\n",
    "        self.config = read_yaml(config_filepath)\n",
    "        self.params = read_yaml(params_filepath)\n",
    "\n",
    "        create_directories([self.config.artifacts_root])\n",
    "\n",
    "\n",
    "    \n",
    "    def get_data_transformation_config(self) -> DataTransformationConfig:\n",
    "        config = self.config.data_transformation\n",
    "\n",
    "        create_directories([config.root_dir])\n",
    "\n",
    "        data_transformation_config = DataTransformationConfig(\n",
    "            root_dir=config.root_dir,\n",
    "            data_path=config.data_path,\n",
    "            tokenizer_name = config.tokenizer_name\n",
    "        )\n",
    "\n",
    "        return data_transformation_config"
   ]
  },
  {
   "cell_type": "code",
   "execution_count": 8,
   "metadata": {},
   "outputs": [
    {
     "name": "stderr",
     "output_type": "stream",
     "text": [
      "c:\\Users\\Devendra\\anaconda3\\envs\\LanguageTranslation\\lib\\site-packages\\tqdm\\auto.py:21: TqdmWarning: IProgress not found. Please update jupyter and ipywidgets. See https://ipywidgets.readthedocs.io/en/stable/user_install.html\n",
      "  from .autonotebook import tqdm as notebook_tqdm\n"
     ]
    },
    {
     "name": "stdout",
     "output_type": "stream",
     "text": [
      "[2024-01-25 19:44:10,557: INFO: config: PyTorch version 2.1.2 available.]\n",
      "[2024-01-25 19:44:10,557: INFO: config: TensorFlow version 2.13.0 available.]\n"
     ]
    }
   ],
   "source": [
    "import os\n",
    "from LanguageTranslation.logging import logger\n",
    "from transformers import AutoTokenizer\n",
    "from datasets import load_dataset, load_from_disk"
   ]
  },
  {
   "cell_type": "code",
   "execution_count": 9,
   "metadata": {},
   "outputs": [],
   "source": [
    "class DataTransformation:\n",
    "    def __init__(self, config: DataTransformationConfig):\n",
    "        self.config = config\n",
    "        self.tokenizer = AutoTokenizer.from_pretrained(config.tokenizer_name)\n",
    "\n",
    "\n",
    "\n",
    "    def preprocess_function(self,examples):\n",
    "        inputs = [ex[\"en\"] for ex in examples[\"translation\"]]\n",
    "        targets = [ex[\"hi\"] for ex in examples[\"translation\"]]\n",
    "        model_inputs = self.tokenizer(inputs, max_length=128, truncation=True)\n",
    "\n",
    "        # Setup the tokenizer for targets\n",
    "        with self.tokenizer.as_target_tokenizer():\n",
    "            labels = self.tokenizer(targets, max_length=128, truncation=True)\n",
    "\n",
    "        model_inputs[\"labels\"] = labels[\"input_ids\"]\n",
    "        return model_inputs\n",
    "\n",
    "\n",
    "    def convert(self):\n",
    "        dataset_iitb_english_hindi = load_from_disk(self.config.data_path)\n",
    "        dataset_iitb_english_hindi_pt = dataset_iitb_english_hindi.map(self.preprocess_function, batched = True)\n",
    "        dataset_iitb_english_hindi_pt.save_to_disk(os.path.join(self.config.root_dir,\"iitb-english-hindi_dataset\"))\n"
   ]
  },
  {
   "cell_type": "code",
   "execution_count": 10,
   "metadata": {},
   "outputs": [
    {
     "name": "stdout",
     "output_type": "stream",
     "text": [
      "[2024-01-25 19:44:12,122: INFO: utils: yaml file: config\\config.yaml loaded successfully]\n",
      "[2024-01-25 19:44:12,122: INFO: utils: yaml file: params.yaml loaded successfully]\n",
      "[2024-01-25 19:44:12,136: INFO: utils: created directory at: artifacts]\n",
      "[2024-01-25 19:44:12,136: INFO: utils: created directory at: artifacts/data_transformation]\n"
     ]
    },
    {
     "name": "stderr",
     "output_type": "stream",
     "text": [
      "c:\\Users\\Devendra\\anaconda3\\envs\\LanguageTranslation\\lib\\site-packages\\transformers\\models\\marian\\tokenization_marian.py:197: UserWarning: Recommended: pip install sacremoses.\n",
      "  warnings.warn(\"Recommended: pip install sacremoses.\")\n",
      "Map:   0%|          | 0/1659083 [00:00<?, ? examples/s]c:\\Users\\Devendra\\anaconda3\\envs\\LanguageTranslation\\lib\\site-packages\\transformers\\tokenization_utils_base.py:3866: UserWarning: `as_target_tokenizer` is deprecated and will be removed in v5 of Transformers. You can tokenize your labels by using the argument `text_target` of the regular `__call__` method (either in the same call as your input texts if you use the same keyword arguments, or in a separate call.\n",
      "  warnings.warn(\n",
      "Map: 100%|██████████| 1659083/1659083 [13:02<00:00, 2119.33 examples/s] \n",
      "Map: 100%|██████████| 520/520 [00:00<00:00, 3697.62 examples/s]\n",
      "Map: 100%|██████████| 2507/2507 [00:00<00:00, 3418.38 examples/s]\n",
      "Saving the dataset (2/2 shards): 100%|██████████| 1659083/1659083 [00:01<00:00, 1026554.29 examples/s]\n",
      "Saving the dataset (1/1 shards): 100%|██████████| 520/520 [00:00<00:00, 49056.19 examples/s]\n",
      "Saving the dataset (1/1 shards): 100%|██████████| 2507/2507 [00:00<00:00, 156084.79 examples/s]\n"
     ]
    }
   ],
   "source": [
    "try:\n",
    "    config = ConfigurationManager()\n",
    "    data_transformation_config = config.get_data_transformation_config()\n",
    "    data_transformation = DataTransformation(config=data_transformation_config)\n",
    "    data_transformation.convert()\n",
    "except Exception as e:\n",
    "    raise e"
   ]
  },
  {
   "cell_type": "code",
   "execution_count": null,
   "metadata": {},
   "outputs": [],
   "source": []
  },
  {
   "cell_type": "code",
   "execution_count": null,
   "metadata": {},
   "outputs": [],
   "source": []
  }
 ],
 "metadata": {
  "kernelspec": {
   "display_name": "LanguageTranslation",
   "language": "python",
   "name": "python3"
  },
  "language_info": {
   "codemirror_mode": {
    "name": "ipython",
    "version": 3
   },
   "file_extension": ".py",
   "mimetype": "text/x-python",
   "name": "python",
   "nbconvert_exporter": "python",
   "pygments_lexer": "ipython3",
   "version": "3.8.18"
  }
 },
 "nbformat": 4,
 "nbformat_minor": 2
}
